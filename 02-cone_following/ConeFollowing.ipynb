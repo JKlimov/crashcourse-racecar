{
 "cells": [
  {
   "cell_type": "code",
   "execution_count": null,
   "metadata": {
    "scrolled": true
   },
   "outputs": [],
   "source": [
    "# Import functions \n",
    "import sys\n",
    "sys.path.insert(0, '..')\n",
    "from racecar_utils import *   "
   ]
  },
  {
   "cell_type": "code",
   "execution_count": null,
   "metadata": {},
   "outputs": [],
   "source": [
    "# Start ROS Node\n",
    "rospy.init_node('racecar')\n",
    "rc = Racecar()\n",
    "print('ROS node started successfully')"
   ]
  },
  {
   "cell_type": "markdown",
   "metadata": {},
   "source": [
    "# Cone Following\n",
    "\n",
    "<p style='font-size:1.75rem;line-height:1.5'>\n",
    "    Let's apply our knowledge of python and color spaces (ie. HSV) to identify and follow a cone!\n",
    "    </p>"
   ]
  },
  {
   "cell_type": "markdown",
   "metadata": {},
   "source": [
    "# Find HSV Values of the Cone"
   ]
  },
  {
   "cell_type": "markdown",
   "metadata": {},
   "source": [
    "<p style='font-size:1.75rem;line-height:1.5'>\n",
    "    Set the HSV lower and upper bounds to detect the cone!\n",
    "    <ol style='font-size:1.75rem;line-height:1.5'>\n",
    "        <li>Use <code>hsv_select(&lt;seconds&gt;)</code> to mask for the cone!</li>\n",
    "        <li>Update <code>HSV_LOWER</code> and <code>HSV_UPPER</code>!</li>\n",
    "    </ol>\n",
    "    </p>"
   ]
  },
  {
   "cell_type": "code",
   "execution_count": null,
   "metadata": {},
   "outputs": [],
   "source": [
    "VIDEO_TIME = 120\n",
    "hsv_select_live(VIDEO_TIME) # default: 120 sec"
   ]
  },
  {
   "cell_type": "code",
   "execution_count": null,
   "metadata": {},
   "outputs": [],
   "source": [
    "HSV_LOWER = np.array([None, None, None]) # replace None values here!\n",
    "HSV_UPPER = np.array([None, None, None])"
   ]
  },
  {
   "cell_type": "markdown",
   "metadata": {},
   "source": [
    "# Speed\n",
    "\n",
    "<p style='font-size:1.75rem;line-height:1.5'>\n",
    "    <code>get_speed</code> determines if the car will drive forwards or backwards depending on how close the car is to the cone. \n",
    "    <br>The closer the cone, the larger the contour will be.\n",
    "    </p>\n",
    "\n",
    "<p style='font-size:1.75rem;line-height:1.5'>\n",
    "    If the car is within a specific range (aka within 1 ft of the cone), then the car will not drive. \n",
    "    <br>Else it will drive forwards or backwards to get to the correct range.\n",
    "    </p>"
   ]
  },
  {
   "cell_type": "code",
   "execution_count": null,
   "metadata": {},
   "outputs": [],
   "source": [
    "DRIVE_SPEED = 0.3    # racecar speed; should be a float between 0 to 1\n",
    "MIN_SIZE = 12000     # contour is too small, move forwards\n",
    "MAX_SIZE = 30000     # contour is too large, move backwards\n",
    "\n",
    "def get_speed(area):\n",
    "    # TASK: If the area is smaller than the MIN_SIZE, set speed to DRIVE_SPEED (drive forward) \n",
    "    #       Else if the area is larger than the MAX_SIZE, set speed to the -DRIVE_SPEED (drive backwards)\n",
    "    #       Else, the area is within range, so set speed to 0 (don't drive)\n",
    "    \n",
    "        \n",
    "    return speed"
   ]
  },
  {
   "cell_type": "markdown",
   "metadata": {},
   "source": [
    "# Cone Following\n",
    "\n",
    "<p style='font-size:1.75rem;line-height:1.5'>\n",
    "    <b style='color:red'>Run the cell blocks below to test your code! </b>\n",
    "    <br><br>\n",
    "    Modify the hsv bounds from above to find the best values for your racecar. Different lighting conditions will cause the bounds to change. The better your HSV values, the better your car will run!\n",
    "    <br><br>\n",
    "    Make sure to hold down the autonomous button to test your code!\n",
    "    <br><br>\n",
    "    <b style='color:red'>Remember to get a sticker from a TA before taking your car off the block!</b>\n",
    "    </p>"
   ]
  },
  {
   "cell_type": "code",
   "execution_count": null,
   "metadata": {},
   "outputs": [],
   "source": [
    "TEST_TIME = 120"
   ]
  },
  {
   "cell_type": "code",
   "execution_count": null,
   "metadata": {
    "scrolled": true
   },
   "outputs": [],
   "source": [
    "last_time = time.time()\n",
    "def cone_follow(img):\n",
    "    global last_time\n",
    "    speed, angle = [0, 0]\n",
    "    \n",
    "    # create hsv mask\n",
    "    img_hsv = cv2.cvtColor(img, cv2.COLOR_BGR2HSV)\n",
    "    mask = cv2.inRange(img_hsv, HSV_LOWER, HSV_UPPER)\n",
    "    \n",
    "    # find contours\n",
    "    contours = cv2.findContours(mask, 3, 2)[1] \n",
    "    \n",
    "    # get greatest_contour if 1. contours exist, 2. contour is large enough\n",
    "    if contours == [] or contours is None:\n",
    "        print('No contours')\n",
    "    else:   \n",
    "        greatest_contour = max(contours, key = cv2.contourArea) # get current largest contour\n",
    "        area = cv2.contourArea(greatest_contour)\n",
    "        speed = get_speed(area)\n",
    "        angle = get_angle(greatest_contour, (speed, angle))\n",
    "        cv2.drawContours(img, [greatest_contour], -1, (0,255, 0), 2)\n",
    "        rc.drive(speed, angle)\n",
    "    \n",
    "    # decrease frames per sec \n",
    "    if VIDEO and time.time()-last_time>=1:\n",
    "        show_frame(img)\n",
    "        last_time = time.time()\n",
    "        \n",
    "    return img\n",
    "\n",
    "rc.run(cone_follow, limit=TEST_TIME) "
   ]
  }
 ],
 "metadata": {
  "celltoolbar": "Raw Cell Format",
  "kernelspec": {
   "display_name": "Python 2",
   "language": "python",
   "name": "python2"
  },
  "language_info": {
   "codemirror_mode": {
    "name": "ipython",
    "version": 2
   },
   "file_extension": ".py",
   "mimetype": "text/x-python",
   "name": "python",
   "nbconvert_exporter": "python",
   "pygments_lexer": "ipython2",
   "version": "2.7.16"
  }
 },
 "nbformat": 4,
 "nbformat_minor": 2
}
